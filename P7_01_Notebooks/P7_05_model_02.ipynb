{
 "cells": [
  {
   "cell_type": "markdown",
   "metadata": {},
   "source": [
    "In the past notebook 'P7_05_model_01', we say that we will use LGBM Classifier and RandomOverSampling for cross-validations and optimize hyperparameters.\n",
    "But, because of some memory problem, I end up using RandomUnderSampling.\n",
    "\n",
    "In this notebook, I have tried to determine values for the hyperparameters that will perform better than the default hyperparameter values."
   ]
  },
  {
   "cell_type": "markdown",
   "metadata": {},
   "source": [
    "# 1. Imports"
   ]
  },
  {
   "cell_type": "code",
   "execution_count": 1,
   "metadata": {},
   "outputs": [],
   "source": [
    "import numpy as np\n",
    "import pandas as pd\n",
    "import os\n",
    "import warnings\n",
    "warnings.filterwarnings('ignore')\n",
    "import matplotlib.pyplot as plt\n",
    "import seaborn as sns\n",
    "from sklearn.impute import SimpleImputer\n",
    "from sklearn.preprocessing import PolynomialFeatures, MinMaxScaler, OneHotEncoder, OrdinalEncoder\n",
    "from lightgbm import LGBMClassifier\n",
    "from xgboost import XGBClassifier\n",
    "from sklearn.model_selection import train_test_split, GridSearchCV\n",
    "from sklearn.metrics import confusion_matrix, roc_auc_score, precision_score, recall_score\n",
    "from imblearn.under_sampling import RandomUnderSampler\n",
    "from imblearn.over_sampling import RandomOverSampler\n",
    "from sklearn.pipeline import make_pipeline, Pipeline\n",
    "from sklearn.compose import make_column_transformer\n",
    "from imblearn.pipeline import make_pipeline\n",
    "from sklearn.feature_selection import SelectFromModel\n",
    "import joblib"
   ]
  },
  {
   "cell_type": "markdown",
   "metadata": {},
   "source": [
    "# 2. Load Data"
   ]
  },
  {
   "cell_type": "code",
   "execution_count": 2,
   "metadata": {},
   "outputs": [],
   "source": [
    "train_merge = pd.read_csv('train_merge.csv')"
   ]
  },
  {
   "cell_type": "code",
   "execution_count": 3,
   "metadata": {},
   "outputs": [
    {
     "data": {
      "text/plain": [
       "(307511, 1370)"
      ]
     },
     "execution_count": 3,
     "metadata": {},
     "output_type": "execute_result"
    }
   ],
   "source": [
    "train_merge.shape"
   ]
  },
  {
   "cell_type": "code",
   "execution_count": 4,
   "metadata": {},
   "outputs": [],
   "source": [
    "pd.set_option('display.max_columns', 150)\n",
    "pd.set_option('display.max_rows', 150)"
   ]
  },
  {
   "cell_type": "code",
   "execution_count": 5,
   "metadata": {},
   "outputs": [],
   "source": [
    "sns.set_theme(style='darkgrid')"
   ]
  },
  {
   "cell_type": "markdown",
   "metadata": {},
   "source": [
    "# 3. Model"
   ]
  },
  {
   "cell_type": "code",
   "execution_count": 6,
   "metadata": {},
   "outputs": [],
   "source": [
    "train = train_merge.copy()"
   ]
  },
  {
   "cell_type": "code",
   "execution_count": 7,
   "metadata": {},
   "outputs": [],
   "source": [
    "# Extract the ids\n",
    "train_ids = train['SK_ID_CURR']\n",
    "    \n",
    "# Extract the labels for training\n",
    "labels = train['TARGET']\n",
    "    \n",
    "# Remove the ids and target\n",
    "train = train.drop(columns = ['SK_ID_CURR', 'TARGET'])"
   ]
  },
  {
   "cell_type": "code",
   "execution_count": 8,
   "metadata": {},
   "outputs": [],
   "source": [
    "categorical_features_1 = []\n",
    "categorical_features_2 = []\n",
    "\n",
    "for col in train.select_dtypes(['object', 'bool']):\n",
    "    if len(list(train[col].unique())) <= 2:\n",
    "        categorical_features_1.append(col)\n",
    "    else:\n",
    "        categorical_features_2.append(col)"
   ]
  },
  {
   "cell_type": "code",
   "execution_count": 9,
   "metadata": {},
   "outputs": [],
   "source": [
    "numerical_features = train.select_dtypes(['float64', 'int64']).columns.tolist()"
   ]
  },
  {
   "cell_type": "code",
   "execution_count": 10,
   "metadata": {},
   "outputs": [],
   "source": [
    "def reduce_mem_usage(df):\n",
    "    \"\"\" iterate through all the columns of a dataframe and modify the data type\n",
    "        to reduce memory usage.        \n",
    "    \"\"\"\n",
    "    start_mem = df.memory_usage().sum() / 1024**2\n",
    "    print('Memory usage of dataframe is {:.2f} MB'.format(start_mem))\n",
    "    \n",
    "    for col in df.columns:\n",
    "        col_type = df[col].dtype\n",
    "        \n",
    "        if col_type != object:\n",
    "            c_min = df[col].min()\n",
    "            c_max = df[col].max()\n",
    "            if str(col_type)[:3] == 'int':\n",
    "                if c_min > np.iinfo(np.int8).min and c_max < np.iinfo(np.int8).max:\n",
    "                    df[col] = df[col].astype(np.int8)\n",
    "                elif c_min > np.iinfo(np.int16).min and c_max < np.iinfo(np.int16).max:\n",
    "                    df[col] = df[col].astype(np.int16)\n",
    "                elif c_min > np.iinfo(np.int32).min and c_max < np.iinfo(np.int32).max:\n",
    "                    df[col] = df[col].astype(np.int32)\n",
    "                elif c_min > np.iinfo(np.int64).min and c_max < np.iinfo(np.int64).max:\n",
    "                    df[col] = df[col].astype(np.int64)  \n",
    "            else:\n",
    "                if c_min > np.finfo(np.float16).min and c_max < np.finfo(np.float16).max:\n",
    "                    df[col] = df[col].astype(np.float16)\n",
    "                elif c_min > np.finfo(np.float32).min and c_max < np.finfo(np.float32).max:\n",
    "                    df[col] = df[col].astype(np.float32)\n",
    "                else:\n",
    "                    df[col] = df[col].astype(np.float64)\n",
    "        else:\n",
    "            df[col] = df[col].astype('category')\n",
    "\n",
    "    end_mem = df.memory_usage().sum() / 1024**2\n",
    "    print('Memory usage after optimization is: {:.2f} MB'.format(end_mem))\n",
    "    print('Decreased by {:.1f}%'.format(100 * (start_mem - end_mem) / start_mem))\n",
    "    \n",
    "    return df"
   ]
  },
  {
   "cell_type": "code",
   "execution_count": 11,
   "metadata": {},
   "outputs": [
    {
     "name": "stdout",
     "output_type": "stream",
     "text": [
      "Memory usage of dataframe is 3113.01 MB\n",
      "Memory usage after optimization is: 992.12 MB\n",
      "Decreased by 68.1%\n"
     ]
    }
   ],
   "source": [
    "train = reduce_mem_usage(train)"
   ]
  },
  {
   "cell_type": "code",
   "execution_count": 12,
   "metadata": {},
   "outputs": [],
   "source": [
    "numerical_pipeline = make_pipeline(SimpleImputer(strategy='median'), MinMaxScaler(feature_range=(0, 1)))\n",
    "categorical_pipeline_1 = make_pipeline(SimpleImputer(strategy='constant', fill_value='Missing'), OrdinalEncoder())\n",
    "categorical_pipeline_2 = make_pipeline(SimpleImputer(strategy='constant', fill_value='Missing'), OneHotEncoder(handle_unknown='ignore'))"
   ]
  },
  {
   "cell_type": "code",
   "execution_count": 13,
   "metadata": {},
   "outputs": [],
   "source": [
    "preprocessor = make_column_transformer((numerical_pipeline, numerical_features), (categorical_pipeline_1, categorical_features_1), (categorical_pipeline_2, categorical_features_2))"
   ]
  },
  {
   "cell_type": "code",
   "execution_count": 14,
   "metadata": {},
   "outputs": [],
   "source": [
    "X_train, X_test, Y_train, Y_test = train_test_split(train, labels, test_size=0.20, random_state=42)"
   ]
  },
  {
   "cell_type": "code",
   "execution_count": 15,
   "metadata": {},
   "outputs": [],
   "source": [
    "def conf_matrix(y_test, pred):\n",
    "    con_mat = confusion_matrix(y_test, pred)\n",
    "    con_mat = pd.DataFrame(con_mat, range(2), range(2))\n",
    "    plt.figure(figsize=(4, 4))\n",
    "    plt.title('Confusion Matrix', size=15)\n",
    "    sns.heatmap(con_mat, annot=True, fmt='g', cmap='Blues', cbar=False)\n",
    "    plt.xlabel('Predicted Label')\n",
    "    plt.ylabel('True Label')"
   ]
  },
  {
   "cell_type": "code",
   "execution_count": 16,
   "metadata": {},
   "outputs": [],
   "source": [
    "def get_column_names_from_ColumnTransformer(column_transformer):\n",
    "    \"\"\"\n",
    "    Helper function which explores a Column Transformer to get feature names\n",
    "    Parameters\n",
    "    ----------\n",
    "    column_transformer: a sklearn column_transformer\n",
    "    Returns\n",
    "    ----------\n",
    "    a list of strings of the column names of the outputs of the colun_transformer\n",
    "    \"\"\"\n",
    "    col_name = []\n",
    "    for transformer_in_columns in column_transformer.transformers_:\n",
    "        raw_col_name = transformer_in_columns[2]\n",
    "        if isinstance(transformer_in_columns[1], Pipeline):\n",
    "            transformer = transformer_in_columns[1].steps[-1][1]\n",
    "        else:\n",
    "            transformer = transformer_in_columns[1]\n",
    "        if isinstance(transformer, OneHotEncoder):\n",
    "            if isinstance(raw_col_name, str):\n",
    "                names = transformer.get_feature_names(input_features=[raw_col_name])\n",
    "            else:\n",
    "                names = transformer.get_feature_names(input_features=raw_col_name)\n",
    "        elif isinstance(transformer, PolynomialFeatures):\n",
    "            names = transformer.get_feature_names(input_features=raw_col_name)\n",
    "        else:\n",
    "            try:\n",
    "                names = transformer.get_feature_names()\n",
    "            except AttributeError:\n",
    "                # if no 'get_feature_names' function, use raw column name\n",
    "                names = raw_col_name\n",
    "        if isinstance(names, np.ndarray):  # eg.\n",
    "            col_name += names.tolist()\n",
    "        elif isinstance(names, list):\n",
    "            col_name += names\n",
    "        elif isinstance(names, str):\n",
    "            col_name.append(names)\n",
    "    return col_name"
   ]
  },
  {
   "cell_type": "markdown",
   "metadata": {},
   "source": [
    "# 4. Model Tuning"
   ]
  },
  {
   "cell_type": "markdown",
   "metadata": {},
   "source": [
    "### First"
   ]
  },
  {
   "cell_type": "code",
   "execution_count": 17,
   "metadata": {},
   "outputs": [],
   "source": [
    "Y_test = Y_test.astype(int)\n",
    "Y_train = Y_train.astype(int)"
   ]
  },
  {
   "cell_type": "code",
   "execution_count": 18,
   "metadata": {
    "scrolled": true
   },
   "outputs": [],
   "source": [
    "rus = RandomUnderSampler(random_state=42)\n",
    "X_train_rus, Y_train_rus = rus.fit_resample(X_train, Y_train)"
   ]
  },
  {
   "cell_type": "code",
   "execution_count": 19,
   "metadata": {},
   "outputs": [],
   "source": [
    "model_lgbmc = make_pipeline(preprocessor, SelectFromModel(XGBClassifier()), LGBMClassifier(random_state=42))"
   ]
  },
  {
   "cell_type": "code",
   "execution_count": 20,
   "metadata": {},
   "outputs": [],
   "source": [
    "param_grid_lgbmc_1 = {'lgbmclassifier__num_leaves': [20, 31, 50],\n",
    "                      'lgbmclassifier__n_estimators': [50, 100, 150]}\n",
    "\n",
    "grid_lgbmc_1 = GridSearchCV(model_lgbmc, param_grid_lgbmc_1, cv=3, scoring='roc_auc', n_jobs=-1)"
   ]
  },
  {
   "cell_type": "code",
   "execution_count": 21,
   "metadata": {
    "scrolled": true
   },
   "outputs": [
    {
     "name": "stdout",
     "output_type": "stream",
     "text": [
      "[17:09:49] WARNING: C:/Users/Administrator/workspace/xgboost-win64_release_1.4.0/src/learner.cc:1095: Starting in XGBoost 1.3.0, the default evaluation metric used with the objective 'binary:logistic' was changed from 'error' to 'logloss'. Explicitly set eval_metric if you'd like to restore the old behavior.\n"
     ]
    },
    {
     "data": {
      "text/plain": [
       "GridSearchCV(cv=3,\n",
       "             estimator=Pipeline(steps=[('columntransformer',\n",
       "                                        ColumnTransformer(transformers=[('pipeline-1',\n",
       "                                                                         Pipeline(steps=[('simpleimputer',\n",
       "                                                                                          SimpleImputer(strategy='median')),\n",
       "                                                                                         ('minmaxscaler',\n",
       "                                                                                          MinMaxScaler())]),\n",
       "                                                                         ['CNT_CHILDREN',\n",
       "                                                                          'AMT_INCOME_TOTAL',\n",
       "                                                                          'AMT_CREDIT',\n",
       "                                                                          'AMT_ANNUITY',\n",
       "                                                                          'AMT_GOODS_PRICE',\n",
       "                                                                          'REGION_POPULATION_RELATIVE',\n",
       "                                                                          'DAYS_BIRTH',\n",
       "                                                                          'DAYS_EMPLOYED',...\n",
       "                                                                                n_jobs=None,\n",
       "                                                                                num_parallel_tree=None,\n",
       "                                                                                random_state=None,\n",
       "                                                                                reg_alpha=None,\n",
       "                                                                                reg_lambda=None,\n",
       "                                                                                scale_pos_weight=None,\n",
       "                                                                                subsample=None,\n",
       "                                                                                tree_method=None,\n",
       "                                                                                validate_parameters=None,\n",
       "                                                                                verbosity=None))),\n",
       "                                       ('lgbmclassifier',\n",
       "                                        LGBMClassifier(random_state=42))]),\n",
       "             n_jobs=-1,\n",
       "             param_grid={'lgbmclassifier__n_estimators': [50, 100, 150],\n",
       "                         'lgbmclassifier__num_leaves': [20, 31, 50]},\n",
       "             scoring='roc_auc')"
      ]
     },
     "execution_count": 21,
     "metadata": {},
     "output_type": "execute_result"
    }
   ],
   "source": [
    "grid_lgbmc_1.fit(X_train_rus, Y_train_rus)"
   ]
  },
  {
   "cell_type": "code",
   "execution_count": 22,
   "metadata": {},
   "outputs": [],
   "source": [
    "# joblib.dump(grid_lgbmc_1, 'grid_lgbmc_1.pkl')"
   ]
  },
  {
   "cell_type": "code",
   "execution_count": 23,
   "metadata": {},
   "outputs": [
    {
     "data": {
      "text/plain": [
       "{'lgbmclassifier__n_estimators': 150, 'lgbmclassifier__num_leaves': 20}"
      ]
     },
     "execution_count": 23,
     "metadata": {},
     "output_type": "execute_result"
    }
   ],
   "source": [
    "grid_lgbmc_1.best_params_"
   ]
  },
  {
   "cell_type": "code",
   "execution_count": 24,
   "metadata": {},
   "outputs": [
    {
     "data": {
      "text/plain": [
       "0.775051836179907"
      ]
     },
     "execution_count": 24,
     "metadata": {},
     "output_type": "execute_result"
    }
   ],
   "source": [
    "grid_lgbmc_1.best_score_"
   ]
  },
  {
   "cell_type": "code",
   "execution_count": 25,
   "metadata": {
    "scrolled": true
   },
   "outputs": [
    {
     "data": {
      "text/plain": [
       "{'mean_fit_time': array([342.51776822, 369.21037618, 514.22431636, 369.29406182,\n",
       "        429.52803469, 487.91028865, 307.18015083, 281.87720482,\n",
       "        198.04083061]),\n",
       " 'std_fit_time': array([ 0.54925249, 14.81289513, 91.75439068,  3.49162121, 38.81454562,\n",
       "        28.31878877, 13.94094962, 63.10572954, 21.95545621]),\n",
       " 'mean_score_time': array([1.78104607, 2.58509843, 3.15486916, 1.9118429 , 2.75650112,\n",
       "        2.3632292 , 2.29436024, 2.05874753, 1.58116245]),\n",
       " 'std_score_time': array([0.03283455, 0.5949168 , 0.30879907, 0.01950192, 0.3265798 ,\n",
       "        0.33806111, 0.58042071, 0.13302696, 0.16421379]),\n",
       " 'param_lgbmclassifier__n_estimators': masked_array(data=[50, 50, 50, 100, 100, 100, 150, 150, 150],\n",
       "              mask=[False, False, False, False, False, False, False, False,\n",
       "                    False],\n",
       "        fill_value='?',\n",
       "             dtype=object),\n",
       " 'param_lgbmclassifier__num_leaves': masked_array(data=[20, 31, 50, 20, 31, 50, 20, 31, 50],\n",
       "              mask=[False, False, False, False, False, False, False, False,\n",
       "                    False],\n",
       "        fill_value='?',\n",
       "             dtype=object),\n",
       " 'params': [{'lgbmclassifier__n_estimators': 50,\n",
       "   'lgbmclassifier__num_leaves': 20},\n",
       "  {'lgbmclassifier__n_estimators': 50, 'lgbmclassifier__num_leaves': 31},\n",
       "  {'lgbmclassifier__n_estimators': 50, 'lgbmclassifier__num_leaves': 50},\n",
       "  {'lgbmclassifier__n_estimators': 100, 'lgbmclassifier__num_leaves': 20},\n",
       "  {'lgbmclassifier__n_estimators': 100, 'lgbmclassifier__num_leaves': 31},\n",
       "  {'lgbmclassifier__n_estimators': 100, 'lgbmclassifier__num_leaves': 50},\n",
       "  {'lgbmclassifier__n_estimators': 150, 'lgbmclassifier__num_leaves': 20},\n",
       "  {'lgbmclassifier__n_estimators': 150, 'lgbmclassifier__num_leaves': 31},\n",
       "  {'lgbmclassifier__n_estimators': 150, 'lgbmclassifier__num_leaves': 50}],\n",
       " 'split0_test_score': array([0.77840792, 0.77878856, 0.77698159, 0.78221809, 0.7822128 ,\n",
       "        0.7782144 , 0.78294151, 0.78188278, 0.77697589]),\n",
       " 'split1_test_score': array([0.76815324, 0.76899444, 0.76940489, 0.77363006, 0.77147669,\n",
       "        0.77093802, 0.77336159, 0.77114411, 0.77039395]),\n",
       " 'split2_test_score': array([0.76386716, 0.76594061, 0.76454589, 0.76894922, 0.76796651,\n",
       "        0.76598021, 0.76885241, 0.7669151 , 0.76488706]),\n",
       " 'mean_test_score': array([0.77014277, 0.7712412 , 0.77031079, 0.77493246, 0.77388533,\n",
       "        0.77171087, 0.77505184, 0.773314  , 0.7707523 ]),\n",
       " 'std_test_score': array([0.00610066, 0.00548048, 0.0051171 , 0.00549472, 0.00606028,\n",
       "        0.0050244 , 0.00587471, 0.00630022, 0.00494175]),\n",
       " 'rank_test_score': array([9, 6, 8, 2, 3, 5, 1, 4, 7])}"
      ]
     },
     "execution_count": 25,
     "metadata": {},
     "output_type": "execute_result"
    }
   ],
   "source": [
    "grid_lgbmc_1.cv_results_"
   ]
  },
  {
   "cell_type": "code",
   "execution_count": 26,
   "metadata": {},
   "outputs": [],
   "source": [
    "pred_1 = grid_lgbmc_1.predict_proba(X_test)\n",
    "pred_1 = pred_1[:, 1]"
   ]
  },
  {
   "cell_type": "code",
   "execution_count": 27,
   "metadata": {},
   "outputs": [
    {
     "name": "stdout",
     "output_type": "stream",
     "text": [
      "AUC:  0.7805908665316597\n"
     ]
    }
   ],
   "source": [
    "auc_1 = roc_auc_score(Y_test, pred_1)\n",
    "print('AUC: ', auc_1)"
   ]
  },
  {
   "cell_type": "code",
   "execution_count": 28,
   "metadata": {},
   "outputs": [
    {
     "name": "stdout",
     "output_type": "stream",
     "text": [
      "AUC:  0.8542561941999747\n"
     ]
    }
   ],
   "source": [
    "pred_1_t = grid_lgbmc_1.predict_proba(X_train_rus)\n",
    "pred_1_t = pred_1_t[:, 1]\n",
    "auc_1_t = roc_auc_score(Y_train_rus, pred_1_t)\n",
    "print('AUC: ', auc_1_t)"
   ]
  },
  {
   "cell_type": "code",
   "execution_count": 29,
   "metadata": {},
   "outputs": [
    {
     "name": "stdout",
     "output_type": "stream",
     "text": [
      "0.710408503618473\n"
     ]
    },
    {
     "data": {
      "image/png": "[encoded data removed]",
      "text/plain": [
       "<Figure size 288x288 with 1 Axes>"
      ]
     },
     "metadata": {},
     "output_type": "display_data"
    }
   ],
   "source": [
    "pred_test = grid_lgbmc_1.predict(X_test)\n",
    "print(roc_auc_score(Y_test, pred_test))\n",
    "conf_matrix(Y_test, pred_test)"
   ]
  },
  {
   "cell_type": "code",
   "execution_count": 30,
   "metadata": {},
   "outputs": [
    {
     "name": "stdout",
     "output_type": "stream",
     "text": [
      "precision:  0.1769626121132722\n",
      "recall:  0.7096383107698525\n"
     ]
    }
   ],
   "source": [
    "precision_1 = precision_score(Y_test, pred_test)\n",
    "recall_1 = recall_score(Y_test, pred_test)\n",
    "\n",
    "print('precision: ', precision_1)\n",
    "print('recall: ', recall_1)"
   ]
  },
  {
   "cell_type": "code",
   "execution_count": 31,
   "metadata": {},
   "outputs": [],
   "source": [
    "mask = grid_lgbmc_1.best_estimator_['selectfrommodel'].get_support()\n",
    "new_features = []\n",
    "\n",
    "for bool, feature in zip(mask, get_column_names_from_ColumnTransformer(grid_lgbmc_1.best_estimator_['columntransformer'])):\n",
    "    if bool:\n",
    "        new_features.append(feature)"
   ]
  },
  {
   "cell_type": "code",
   "execution_count": 32,
   "metadata": {},
   "outputs": [
    {
     "data": {
      "image/png": "[encoded data removed]",
      "text/plain": [
       "<Figure size 1080x360 with 1 Axes>"
      ]
     },
     "metadata": {},
     "output_type": "display_data"
    }
   ],
   "source": [
    "Importance = pd.DataFrame(grid_lgbmc_1.best_estimator_['lgbmclassifier'].feature_importances_, index = new_features, columns = ['Importance'])\n",
    "plt.figure(figsize = (15,5))\n",
    "Importance['Importance'].sort_values(ascending = False)[:20].plot.bar(y = 'Importance')\n",
    "plt.title('Feature Importance', fontsize = 18)\n",
    "plt.xlabel('Features', size = 14)\n",
    "plt.ylabel('Importance', size = 14)\n",
    "plt.show()"
   ]
  },
  {
   "cell_type": "markdown",
   "metadata": {},
   "source": [
    "#### Second"
   ]
  },
  {
   "cell_type": "code",
   "execution_count": 33,
   "metadata": {},
   "outputs": [],
   "source": [
    "param_grid_lgbmc_2 = {'lgbmclassifier__num_leaves': [10, 20],\n",
    "                      'lgbmclassifier__n_estimators': [150, 200]}\n",
    "\n",
    "grid_lgbmc_2 = GridSearchCV(model_lgbmc, param_grid_lgbmc_2, cv=3, scoring='roc_auc', n_jobs=-1)"
   ]
  },
  {
   "cell_type": "code",
   "execution_count": 34,
   "metadata": {
    "scrolled": true
   },
   "outputs": [
    {
     "name": "stdout",
     "output_type": "stream",
     "text": [
      "[17:21:31] WARNING: C:/Users/Administrator/workspace/xgboost-win64_release_1.4.0/src/learner.cc:1095: Starting in XGBoost 1.3.0, the default evaluation metric used with the objective 'binary:logistic' was changed from 'error' to 'logloss'. Explicitly set eval_metric if you'd like to restore the old behavior.\n"
     ]
    },
    {
     "data": {
      "text/plain": [
       "GridSearchCV(cv=3,\n",
       "             estimator=Pipeline(steps=[('columntransformer',\n",
       "                                        ColumnTransformer(transformers=[('pipeline-1',\n",
       "                                                                         Pipeline(steps=[('simpleimputer',\n",
       "                                                                                          SimpleImputer(strategy='median')),\n",
       "                                                                                         ('minmaxscaler',\n",
       "                                                                                          MinMaxScaler())]),\n",
       "                                                                         ['CNT_CHILDREN',\n",
       "                                                                          'AMT_INCOME_TOTAL',\n",
       "                                                                          'AMT_CREDIT',\n",
       "                                                                          'AMT_ANNUITY',\n",
       "                                                                          'AMT_GOODS_PRICE',\n",
       "                                                                          'REGION_POPULATION_RELATIVE',\n",
       "                                                                          'DAYS_BIRTH',\n",
       "                                                                          'DAYS_EMPLOYED',...\n",
       "                                                                                n_jobs=None,\n",
       "                                                                                num_parallel_tree=None,\n",
       "                                                                                random_state=None,\n",
       "                                                                                reg_alpha=None,\n",
       "                                                                                reg_lambda=None,\n",
       "                                                                                scale_pos_weight=None,\n",
       "                                                                                subsample=None,\n",
       "                                                                                tree_method=None,\n",
       "                                                                                validate_parameters=None,\n",
       "                                                                                verbosity=None))),\n",
       "                                       ('lgbmclassifier',\n",
       "                                        LGBMClassifier(random_state=42))]),\n",
       "             n_jobs=-1,\n",
       "             param_grid={'lgbmclassifier__n_estimators': [150, 200],\n",
       "                         'lgbmclassifier__num_leaves': [10, 20]},\n",
       "             scoring='roc_auc')"
      ]
     },
     "execution_count": 34,
     "metadata": {},
     "output_type": "execute_result"
    }
   ],
   "source": [
    "grid_lgbmc_2.fit(X_train_rus, Y_train_rus)"
   ]
  },
  {
   "cell_type": "code",
   "execution_count": 35,
   "metadata": {},
   "outputs": [],
   "source": [
    "# joblib.dump(grid_lgbmc_2, 'grid_lgbmc_2.pkl')"
   ]
  },
  {
   "cell_type": "code",
   "execution_count": 36,
   "metadata": {},
   "outputs": [
    {
     "data": {
      "text/plain": [
       "{'lgbmclassifier__n_estimators': 200, 'lgbmclassifier__num_leaves': 10}"
      ]
     },
     "execution_count": 36,
     "metadata": {},
     "output_type": "execute_result"
    }
   ],
   "source": [
    "grid_lgbmc_2.best_params_"
   ]
  },
  {
   "cell_type": "code",
   "execution_count": 37,
   "metadata": {},
   "outputs": [
    {
     "data": {
      "text/plain": [
       "0.7752919964942432"
      ]
     },
     "execution_count": 37,
     "metadata": {},
     "output_type": "execute_result"
    }
   ],
   "source": [
    "grid_lgbmc_2.best_score_"
   ]
  },
  {
   "cell_type": "code",
   "execution_count": 38,
   "metadata": {
    "scrolled": true
   },
   "outputs": [
    {
     "data": {
      "text/plain": [
       "{'mean_fit_time': array([382.12041775, 542.81114809, 337.43323501, 226.910556  ]),\n",
       " 'std_fit_time': array([ 3.50038854, 32.8841328 , 80.33813773,  5.16671072]),\n",
       " 'mean_score_time': array([2.07949408, 3.10270429, 2.80249405, 1.58548697]),\n",
       " 'std_score_time': array([0.0286863 , 0.4592818 , 0.63194427, 0.05658782]),\n",
       " 'param_lgbmclassifier__n_estimators': masked_array(data=[150, 150, 200, 200],\n",
       "              mask=[False, False, False, False],\n",
       "        fill_value='?',\n",
       "             dtype=object),\n",
       " 'param_lgbmclassifier__num_leaves': masked_array(data=[10, 20, 10, 20],\n",
       "              mask=[False, False, False, False],\n",
       "        fill_value='?',\n",
       "             dtype=object),\n",
       " 'params': [{'lgbmclassifier__n_estimators': 150,\n",
       "   'lgbmclassifier__num_leaves': 10},\n",
       "  {'lgbmclassifier__n_estimators': 150, 'lgbmclassifier__num_leaves': 20},\n",
       "  {'lgbmclassifier__n_estimators': 200, 'lgbmclassifier__num_leaves': 10},\n",
       "  {'lgbmclassifier__n_estimators': 200, 'lgbmclassifier__num_leaves': 20}],\n",
       " 'split0_test_score': array([0.78163413, 0.78294151, 0.78225076, 0.78256075]),\n",
       " 'split1_test_score': array([0.77330138, 0.77336159, 0.77414911, 0.77263984]),\n",
       " 'split2_test_score': array([0.76871268, 0.76885241, 0.76947612, 0.76878215]),\n",
       " 'mean_test_score': array([0.7745494 , 0.77505184, 0.775292  , 0.77466091]),\n",
       " 'std_test_score': array([0.00534847, 0.00587471, 0.00527746, 0.00580379]),\n",
       " 'rank_test_score': array([4, 2, 1, 3])}"
      ]
     },
     "execution_count": 38,
     "metadata": {},
     "output_type": "execute_result"
    }
   ],
   "source": [
    "grid_lgbmc_2.cv_results_"
   ]
  },
  {
   "cell_type": "code",
   "execution_count": 39,
   "metadata": {},
   "outputs": [],
   "source": [
    "pred_2 = grid_lgbmc_2.predict_proba(X_test)\n",
    "pred_2 = pred_2[:, 1]"
   ]
  },
  {
   "cell_type": "code",
   "execution_count": 40,
   "metadata": {},
   "outputs": [
    {
     "name": "stdout",
     "output_type": "stream",
     "text": [
      "AUC:  0.780007242669657\n"
     ]
    }
   ],
   "source": [
    "auc_2 = roc_auc_score(Y_test, pred_2)\n",
    "print('AUC: ', auc_2)"
   ]
  },
  {
   "cell_type": "code",
   "execution_count": 41,
   "metadata": {},
   "outputs": [
    {
     "name": "stdout",
     "output_type": "stream",
     "text": [
      "AUC:  0.826560287082386\n"
     ]
    }
   ],
   "source": [
    "pred_2_t = grid_lgbmc_2.predict_proba(X_train_rus)\n",
    "pred_2_t = pred_2_t[:, 1]\n",
    "auc_2_t = roc_auc_score(Y_train_rus, pred_2_t)\n",
    "print('AUC: ', auc_2_t)"
   ]
  },
  {
   "cell_type": "code",
   "execution_count": 42,
   "metadata": {},
   "outputs": [
    {
     "name": "stdout",
     "output_type": "stream",
     "text": [
      "0.7100561437666069\n"
     ]
    },
    {
     "data": {
      "image/png": "[encoded data removed]",
      "text/plain": [
       "<Figure size 288x288 with 1 Axes>"
      ]
     },
     "metadata": {},
     "output_type": "display_data"
    }
   ],
   "source": [
    "pred_test = grid_lgbmc_2.predict(X_test)\n",
    "print(roc_auc_score(Y_test, pred_test))\n",
    "conf_matrix(Y_test, pred_test)"
   ]
  },
  {
   "cell_type": "code",
   "execution_count": 43,
   "metadata": {},
   "outputs": [
    {
     "name": "stdout",
     "output_type": "stream",
     "text": [
      "precision:  0.17672826141684708\n",
      "recall:  0.709234188724995\n"
     ]
    }
   ],
   "source": [
    "precision_2 = precision_score(Y_test, pred_test)\n",
    "recall_2 = recall_score(Y_test, pred_test)\n",
    "\n",
    "print('precision: ', precision_2)\n",
    "print('recall: ', recall_2)"
   ]
  },
  {
   "cell_type": "code",
   "execution_count": 44,
   "metadata": {},
   "outputs": [],
   "source": [
    "mask = grid_lgbmc_2.best_estimator_['selectfrommodel'].get_support()\n",
    "new_features = []\n",
    "\n",
    "for bool, feature in zip(mask, get_column_names_from_ColumnTransformer(grid_lgbmc_2.best_estimator_['columntransformer'])):\n",
    "    if bool:\n",
    "        new_features.append(feature)"
   ]
  },
  {
   "cell_type": "code",
   "execution_count": 45,
   "metadata": {},
   "outputs": [
    {
     "data": {
      "image/png": "[encoded data removed]",
      "text/plain": [
       "<Figure size 1080x360 with 1 Axes>"
      ]
     },
     "metadata": {},
     "output_type": "display_data"
    }
   ],
   "source": [
    "Importance = pd.DataFrame(grid_lgbmc_2.best_estimator_['lgbmclassifier'].feature_importances_, index = new_features, columns = ['Importance'])\n",
    "plt.figure(figsize = (15,5))\n",
    "Importance['Importance'].sort_values(ascending = False)[:20].plot.bar(y = 'Importance')\n",
    "plt.title('Feature Importance', fontsize = 18)\n",
    "plt.xlabel('Features', size = 14)\n",
    "plt.ylabel('Importance', size = 14)\n",
    "plt.show()"
   ]
  },
  {
   "cell_type": "markdown",
   "metadata": {},
   "source": [
    "# 5. Results"
   ]
  },
  {
   "cell_type": "code",
   "execution_count": 46,
   "metadata": {},
   "outputs": [],
   "source": [
    "model_name = ['First', \n",
    "              'Second']\n",
    "\n",
    "columns_name = ['AUC', 'AUC_Training', 'Precision', 'Recall']\n",
    "\n",
    "df_result = pd.DataFrame(index = model_name, columns = columns_name)"
   ]
  },
  {
   "cell_type": "code",
   "execution_count": 47,
   "metadata": {},
   "outputs": [],
   "source": [
    "count = 1\n",
    "for i in model_name:\n",
    "    df_result.loc[i, 'AUC'] = vars()['auc_' + str(count)]\n",
    "    df_result.loc[i, 'AUC_Training'] = vars()['auc_' + str(count) + '_t']\n",
    "    df_result.loc[i, 'Precision'] = vars()['precision_' + str(count)]\n",
    "    df_result.loc[i, 'Recall'] = vars()['recall_' + str(count)]\n",
    "    count = count + 1"
   ]
  },
  {
   "cell_type": "code",
   "execution_count": 48,
   "metadata": {},
   "outputs": [
    {
     "data": {
      "text/html": [
       "<div>\n",
       "<style scoped>\n",
       "    .dataframe tbody tr th:only-of-type {\n",
       "        vertical-align: middle;\n",
       "    }\n",
       "\n",
       "    .dataframe tbody tr th {\n",
       "        vertical-align: top;\n",
       "    }\n",
       "\n",
       "    .dataframe thead th {\n",
       "        text-align: right;\n",
       "    }\n",
       "</style>\n",
       "<table border=\"1\" class=\"dataframe\">\n",
       "  <thead>\n",
       "    <tr style=\"text-align: right;\">\n",
       "      <th></th>\n",
       "      <th>AUC</th>\n",
       "      <th>AUC_Training</th>\n",
       "      <th>Precision</th>\n",
       "      <th>Recall</th>\n",
       "    </tr>\n",
       "  </thead>\n",
       "  <tbody>\n",
       "    <tr>\n",
       "      <th>First</th>\n",
       "      <td>0.780591</td>\n",
       "      <td>0.854256</td>\n",
       "      <td>0.176963</td>\n",
       "      <td>0.709638</td>\n",
       "    </tr>\n",
       "    <tr>\n",
       "      <th>Second</th>\n",
       "      <td>0.780007</td>\n",
       "      <td>0.82656</td>\n",
       "      <td>0.176728</td>\n",
       "      <td>0.709234</td>\n",
       "    </tr>\n",
       "  </tbody>\n",
       "</table>\n",
       "</div>"
      ],
      "text/plain": [
       "             AUC AUC_Training Precision    Recall\n",
       "First   0.780591     0.854256  0.176963  0.709638\n",
       "Second  0.780007      0.82656  0.176728  0.709234"
      ]
     },
     "execution_count": 48,
     "metadata": {},
     "output_type": "execute_result"
    }
   ],
   "source": [
    "df_result"
   ]
  },
  {
   "cell_type": "code",
   "execution_count": null,
   "metadata": {},
   "outputs": [],
   "source": []
  }
 ],
 "metadata": {
  "kernelspec": {
   "display_name": "Python 3",
   "language": "python",
   "name": "python3"
  },
  "language_info": {
   "codemirror_mode": {
    "name": "ipython",
    "version": 3
   },
   "file_extension": ".py",
   "mimetype": "text/x-python",
   "name": "python",
   "nbconvert_exporter": "python",
   "pygments_lexer": "ipython3",
   "version": "3.8.5"
  }
 },
 "nbformat": 4,
 "nbformat_minor": 4
}
